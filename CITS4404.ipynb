{
  "cells": [
    {
      "cell_type": "markdown",
      "metadata": {
        "colab_type": "text",
        "id": "view-in-github"
      },
      "source": [
        "<a href=\"https://colab.research.google.com/github/LDY681/CITS4404_project/blob/model-fitness/CITS4404.ipynb\" target=\"_parent\"><img src=\"https://colab.research.google.com/assets/colab-badge.svg\" alt=\"Open In Colab\"/></a>"
      ]
    },
    {
      "cell_type": "markdown",
      "metadata": {
        "id": "32yCsRUo8H33"
      },
      "source": [
        "# CITS4404 Firefly Algorithm Trading Bot\n",
        "#### by: Davinh Dang (22717235), Dayu Liu (24188516), Ethan Young (23450844), Flavian Jerotich (24001784), Kushan Jayasekera (24205163), Xin Wang (24201533)"
      ]
    },
    {
      "cell_type": "markdown",
      "metadata": {
        "id": "faX-bGXZbfiq"
      },
      "source": [
        "# README\n",
        "This folder contains this `ipynb` file to run bot training and trading, dataset is imported from kaggle."
      ]
    },
    {
      "cell_type": "markdown",
      "metadata": {
        "id": "6po98qVA8bJD"
      },
      "source": [
        "# 1. Dataset Processing and Filter Implementation\n",
        "This step involves processing kaggle dataset. Dates and Closing prices are extracted with their corresponding values, ready for use for further processing for the analysis.\n",
        "### Get required Python Modules"
      ]
    },
    {
      "cell_type": "code",
      "execution_count": null,
      "metadata": {
        "colab": {
          "base_uri": "https://localhost:8080/"
        },
        "id": "MMaCJRj2bfir",
        "outputId": "c9828d2d-049e-4907-cd4d-d274baa00cf4"
      },
      "outputs": [
        {
          "name": "stdout",
          "output_type": "stream",
          "text": [
            "Requirement already satisfied: torch in /usr/local/lib/python3.11/dist-packages (2.6.0+cu124)\n",
            "Requirement already satisfied: filelock in /usr/local/lib/python3.11/dist-packages (from torch) (3.18.0)\n",
            "Requirement already satisfied: typing-extensions>=4.10.0 in /usr/local/lib/python3.11/dist-packages (from torch) (4.13.2)\n",
            "Requirement already satisfied: networkx in /usr/local/lib/python3.11/dist-packages (from torch) (3.4.2)\n",
            "Requirement already satisfied: jinja2 in /usr/local/lib/python3.11/dist-packages (from torch) (3.1.6)\n",
            "Requirement already satisfied: fsspec in /usr/local/lib/python3.11/dist-packages (from torch) (2025.3.2)\n",
            "Requirement already satisfied: nvidia-cuda-nvrtc-cu12==12.4.127 in /usr/local/lib/python3.11/dist-packages (from torch) (12.4.127)\n",
            "Requirement already satisfied: nvidia-cuda-runtime-cu12==12.4.127 in /usr/local/lib/python3.11/dist-packages (from torch) (12.4.127)\n",
            "Requirement already satisfied: nvidia-cuda-cupti-cu12==12.4.127 in /usr/local/lib/python3.11/dist-packages (from torch) (12.4.127)\n",
            "Requirement already satisfied: nvidia-cudnn-cu12==9.1.0.70 in /usr/local/lib/python3.11/dist-packages (from torch) (9.1.0.70)\n",
            "Requirement already satisfied: nvidia-cublas-cu12==12.4.5.8 in /usr/local/lib/python3.11/dist-packages (from torch) (12.4.5.8)\n",
            "Requirement already satisfied: nvidia-cufft-cu12==11.2.1.3 in /usr/local/lib/python3.11/dist-packages (from torch) (11.2.1.3)\n",
            "Requirement already satisfied: nvidia-curand-cu12==10.3.5.147 in /usr/local/lib/python3.11/dist-packages (from torch) (10.3.5.147)\n",
            "Requirement already satisfied: nvidia-cusolver-cu12==11.6.1.9 in /usr/local/lib/python3.11/dist-packages (from torch) (11.6.1.9)\n",
            "Requirement already satisfied: nvidia-cusparse-cu12==12.3.1.170 in /usr/local/lib/python3.11/dist-packages (from torch) (12.3.1.170)\n",
            "Requirement already satisfied: nvidia-cusparselt-cu12==0.6.2 in /usr/local/lib/python3.11/dist-packages (from torch) (0.6.2)\n",
            "Requirement already satisfied: nvidia-nccl-cu12==2.21.5 in /usr/local/lib/python3.11/dist-packages (from torch) (2.21.5)\n",
            "Requirement already satisfied: nvidia-nvtx-cu12==12.4.127 in /usr/local/lib/python3.11/dist-packages (from torch) (12.4.127)\n",
            "Requirement already satisfied: nvidia-nvjitlink-cu12==12.4.127 in /usr/local/lib/python3.11/dist-packages (from torch) (12.4.127)\n",
            "Requirement already satisfied: triton==3.2.0 in /usr/local/lib/python3.11/dist-packages (from torch) (3.2.0)\n",
            "Requirement already satisfied: sympy==1.13.1 in /usr/local/lib/python3.11/dist-packages (from torch) (1.13.1)\n",
            "Requirement already satisfied: mpmath<1.4,>=1.1.0 in /usr/local/lib/python3.11/dist-packages (from sympy==1.13.1->torch) (1.3.0)\n",
            "Requirement already satisfied: MarkupSafe>=2.0 in /usr/local/lib/python3.11/dist-packages (from jinja2->torch) (3.0.2)\n",
            "Requirement already satisfied: numpy in /usr/local/lib/python3.11/dist-packages (2.0.2)\n",
            "Requirement already satisfied: pandas in /usr/local/lib/python3.11/dist-packages (2.2.2)\n",
            "Requirement already satisfied: numpy>=1.23.2 in /usr/local/lib/python3.11/dist-packages (from pandas) (2.0.2)\n",
            "Requirement already satisfied: python-dateutil>=2.8.2 in /usr/local/lib/python3.11/dist-packages (from pandas) (2.9.0.post0)\n",
            "Requirement already satisfied: pytz>=2020.1 in /usr/local/lib/python3.11/dist-packages (from pandas) (2025.2)\n",
            "Requirement already satisfied: tzdata>=2022.7 in /usr/local/lib/python3.11/dist-packages (from pandas) (2025.2)\n",
            "Requirement already satisfied: six>=1.5 in /usr/local/lib/python3.11/dist-packages (from python-dateutil>=2.8.2->pandas) (1.17.0)\n",
            "Requirement already satisfied: kagglehub in /usr/local/lib/python3.11/dist-packages (0.3.12)\n",
            "Requirement already satisfied: packaging in /usr/local/lib/python3.11/dist-packages (from kagglehub) (24.2)\n",
            "Requirement already satisfied: pyyaml in /usr/local/lib/python3.11/dist-packages (from kagglehub) (6.0.2)\n",
            "Requirement already satisfied: requests in /usr/local/lib/python3.11/dist-packages (from kagglehub) (2.32.3)\n",
            "Requirement already satisfied: tqdm in /usr/local/lib/python3.11/dist-packages (from kagglehub) (4.67.1)\n",
            "Requirement already satisfied: charset-normalizer<4,>=2 in /usr/local/lib/python3.11/dist-packages (from requests->kagglehub) (3.4.1)\n",
            "Requirement already satisfied: idna<4,>=2.5 in /usr/local/lib/python3.11/dist-packages (from requests->kagglehub) (3.10)\n",
            "Requirement already satisfied: urllib3<3,>=1.21.1 in /usr/local/lib/python3.11/dist-packages (from requests->kagglehub) (2.4.0)\n",
            "Requirement already satisfied: certifi>=2017.4.17 in /usr/local/lib/python3.11/dist-packages (from requests->kagglehub) (2025.1.31)\n"
          ]
        }
      ],
      "source": [
        "!pip install torch\n",
        "!pip install numpy\n",
        "!pip install pandas\n",
        "!pip install kagglehub"
      ]
    },
    {
      "cell_type": "code",
      "execution_count": 2,
      "metadata": {
        "id": "XRNDIqgAbfir"
      },
      "outputs": [],
      "source": [
        "# Import libraries\n",
        "# Essentials\n",
        "import numpy as np\n",
        "\n",
        "# Data Processing\n",
        "import pandas as pd\n",
        "import kagglehub\n",
        "\n",
        "# Visualisation\n",
        "import matplotlib.pyplot as plt\n",
        "\n",
        "# FIXME Modeling\n",
        "import torch\n",
        "import torch.nn as nn\n",
        "import torch.optim as optim\n",
        "import torch.nn.functional as F\n",
        "from torch.nn.utils.rnn import pad_sequence\n",
        "import time\n"
      ]
    },
    {
      "cell_type": "markdown",
      "metadata": {
        "id": "DkhSq4TYbfis"
      },
      "source": [
        "### Data Processing"
      ]
    },
    {
      "cell_type": "markdown",
      "metadata": {
        "id": "Egn7YmIvbfis"
      },
      "source": [
        "### SMA Filter Implementation"
      ]
    },
    {
      "cell_type": "code",
      "execution_count": 3,
      "metadata": {
        "colab": {
          "base_uri": "https://localhost:8080/"
        },
        "id": "T0FBGCfGbfis",
        "outputId": "6539a8dc-5792-406d-9adf-97b6bb90c3a0"
      },
      "outputs": [
        {
          "name": "stdout",
          "output_type": "stream",
          "text": [
            "Path to dataset files: /Users/ethanyong/.cache/kagglehub/datasets/prasoonkottarathil/btcinusd/versions/4\n",
            "Dates: 0    2014-11-28 00:00:00\n",
            "1    2014-11-29 00:00:00\n",
            "2    2014-11-30 00:00:00\n",
            "3    2014-12-01 00:00:00\n",
            "4    2014-12-02 00:00:00\n",
            "Name: date, dtype: object\n",
            "Prices: 0    376.28\n",
            "1    376.72\n",
            "2    373.34\n",
            "3    378.39\n",
            "4    379.25\n",
            "Name: price, dtype: float64\n",
            "sma10: [341.716 338.467 336.653 334.07  331.674]\n"
          ]
        }
      ],
      "source": [
        "\n",
        "\n",
        "# Download dataset from Kaggle\n",
        "path = kagglehub.dataset_download(\"prasoonkottarathil/btcinusd\")\n",
        "print(\"Path to dataset files:\", path)\n",
        "\n",
        "fileName = \"BTC-Daily.csv\"  #! Other candidates include BTC-{2017-2021}min.csv, BTC-Hourly.csv (Which are hourly data and may not be suitable)\n",
        "\n",
        "def preprocess_data(path, fileName):\n",
        "    # Open dataset and load file as CSV\n",
        "    file_path = f\"{path}/{fileName}\"\n",
        "    data = pd.read_csv(file_path)\n",
        "\n",
        "    # Extract relevant columns\n",
        "    dates = data['date'].tolist()\n",
        "    prices = data['close'].tolist()\n",
        "\n",
        "    # Create a DataFrame\n",
        "    df = pd.DataFrame({'date': dates, 'price': prices}).sort_values('date', ascending=True).reset_index(drop=True)\n",
        "    return df\n",
        "\n",
        "train_df = preprocess_data(path, fileName)\n",
        "\n",
        "cutoff_2020  = 0.3\n",
        "\n",
        "# Variables for model\n",
        "dates = train_df['date']\n",
        "prices = train_df['price']\n",
        "prices_rows = len(prices)\n",
        "bottom_index = int(prices_rows * cutoff_2020)\n",
        "test_prices = prices.tail(bottom_index)\n",
        "test_dates = dates.tail(bottom_index)\n",
        "prices = prices.head(prices_rows - bottom_index)\n",
        "dates = dates.head(prices_rows - bottom_index)\n",
        "\n",
        "print(\"Dates:\", dates[:5])\n",
        "print(\"Prices:\", prices[:5])\n",
        "\n",
        "def pad(P, N):\n",
        "    flip = np.flip(P[1:N]) # The project instruction have a negate sign before the flip function, could be a typo\n",
        "    return np.append(flip, P)\n",
        "\n",
        "def sma_filter(P, N):\n",
        "    # pad the series\n",
        "    P_pad = pad(P, N)\n",
        "    # Roll the window and calculate the weighted average\n",
        "    sma_full = pd.Series(P_pad).rolling(window=N).mean().to_numpy()\n",
        "    return sma_full[N-1:]\n",
        "\n",
        "#! To generate an N-day SMA we can simply call\n",
        "sma10 = sma_filter(prices, 10)\n",
        "sma20 = sma_filter(prices, 20)\n",
        "print(\"sma10:\", sma10[20:25])"
      ]
    },
    {
      "cell_type": "markdown",
      "metadata": {
        "id": "1FA2ao2l8hOg"
      },
      "source": [
        "# 2. Model Implementation\n"
      ]
    },
    {
      "cell_type": "markdown",
      "metadata": {
        "id": "by_-dN1mbfit"
      },
      "source": [
        "### Model's Hyperparameters"
      ]
    },
    {
      "cell_type": "code",
      "execution_count": 4,
      "metadata": {
        "id": "Kqg9KcoHbfit"
      },
      "outputs": [],
      "source": [
        "# Variable Initialization\n",
        "lb = 10 # Short-term moving average window size\n",
        "ub = 40 # Long-term moving average window size"
      ]
    },
    {
      "cell_type": "markdown",
      "metadata": {
        "id": "hGz5qMMzbfit"
      },
      "source": [
        "### Model Constructor"
      ]
    },
    {
      "cell_type": "code",
      "execution_count": 35,
      "metadata": {
        "id": "2WH5n3j_bfit"
      },
      "outputs": [],
      "source": [
        "# from https://github.com/firefly-cpp/FireflyAlgorithm/blob/master/fireflyalgorithm/fireflyalgorithm.py\n",
        "import numpy as np\n",
        "from numpy.random import default_rng\n",
        "\n",
        "\n",
        "class FireflyAlgorithm:\n",
        "    def __init__(self, pop_size=20, alpha=1.0, betamin=0.2, gamma=0.01, seed=None):\n",
        "        self.pop_size = pop_size\n",
        "        self.alpha = alpha\n",
        "        self.betamin = betamin\n",
        "        self.gamma = gamma\n",
        "        self.rng = default_rng(seed)\n",
        "\n",
        "    def run(self, function, dim, lb, ub, max_evals):\n",
        "        fireflies = self.rng.uniform(lb, ub, (self.pop_size, dim))\n",
        "        intensity = np.apply_along_axis(function, 1, fireflies)\n",
        "        best = np.min(intensity)\n",
        "\n",
        "        evaluations = self.pop_size\n",
        "        new_alpha = self.alpha\n",
        "        search_range = ub - lb\n",
        "\n",
        "        while evaluations <= max_evals:\n",
        "            new_alpha *= 0.999\n",
        "            for i in range(self.pop_size):\n",
        "                for j in range(self.pop_size):\n",
        "                    if intensity[i] >= intensity[j]:\n",
        "                        r = np.sum(np.square(fireflies[i] - fireflies[j]), axis=-1)\n",
        "                        beta = self.betamin * np.exp(-self.gamma * r)\n",
        "                        steps = new_alpha * (self.rng.random(dim) - 0.5) * search_range\n",
        "                        fireflies[i] += beta * (fireflies[j] - fireflies[i]) + steps\n",
        "                        fireflies[i] = np.clip(fireflies[i], lb, ub)\n",
        "                        intensity[i] = function(fireflies[i])\n",
        "                        evaluations += 1\n",
        "                        best = min(intensity[i], best)\n",
        "        return best, fireflies[np.argmin(intensity)] "
      ]
    },
    {
      "cell_type": "markdown",
      "metadata": {
        "id": "EzGuzHPE87Ya"
      },
      "source": [
        "# 3. Trading strategy"
      ]
    },
    {
      "cell_type": "code",
      "execution_count": 7,
      "metadata": {
        "id": "46nYaSjebfit"
      },
      "outputs": [],
      "source": [
        "def simulate_trading(X, prices=prices, initial_capital=1000, fee_rate=0.001, print_out = False):\n",
        "    SMA1 = round(X[0])\n",
        "    SMA2 = round(X[1])\n",
        "    if SMA1 >= SMA2:\n",
        "        if print_out:\n",
        "            print(\"Warning: Short-term SMA window (SMA1) should be less than long-term SMA window (SMA2).\")\n",
        "        return 1e9\n",
        "\n",
        "    # --- 1. Calculate SMAs ---\n",
        "    sma_short = sma_filter(prices, SMA1)\n",
        "    sma_long = sma_filter(prices, SMA2)\n",
        "\n",
        "    # --- 2. Generate Crossover Signals ---\n",
        "    # Create a position state: 1 if sma_short > sma_long, -1 otherwise\n",
        "    # Use -1 for below/equal to simplify crossover detection\n",
        "    position_state = pd.Series(np.where(sma_short > sma_long, 1, -1), index=prices.index)\n",
        "\n",
        "    # Detect crossovers:\n",
        "    # Buy signal (1): state changes from -1 (below/equal) to 1 (above)\n",
        "    # Sell signal (-1): state changes from 1 (above) to -1 (below/equal)\n",
        "    # Use .diff() to find changes. A change from -1 to 1 is diff = 2. A change from 1 to -1 is diff = -2.\n",
        "    crossover = position_state.diff()\n",
        "    buy_signals = pd.Series(np.where(crossover == 2, 1, 0), index=prices.index)\n",
        "    sell_signals = pd.Series(np.where(crossover == -2, -1, 0), index=prices.index)\n",
        "\n",
        "    capital = float(initial_capital)\n",
        "    shares = 0.0\n",
        "    holding_bitcoin = False\n",
        "\n",
        "    start_index = max(SMA1, SMA2) # First day both SMAs are potentially valid (depends on sma_filter implementation)\n",
        "                                    # Crossover signal needs one more day due to diff()\n",
        "                                    # Ensure loop starts where crossover signal is not NaN\n",
        "\n",
        "    # --- 4. Simulation Loop ---\n",
        "    # Iterate through days where signals *could* be generated\n",
        "    for i in range(start_index, len(prices)):\n",
        "        price_today = prices.iloc[i]\n",
        "        buy_signal_today = buy_signals.iloc[i]\n",
        "        sell_signal_today = sell_signals.iloc[i]\n",
        "\n",
        "        # Check for invalid price\n",
        "        if pd.isna(price_today) or price_today <= 0:\n",
        "            continue # Skip day if price is invalid\n",
        "\n",
        "        # If Buy signal generated today AND currently holding cash\n",
        "        if buy_signal_today == 1 and not holding_bitcoin:\n",
        "            cash_to_spend = capital * (1 - fee_rate) # fee\n",
        "            shares = cash_to_spend / price_today\n",
        "            capital = 0.0\n",
        "            holding_bitcoin = True\n",
        "            if print_out:\n",
        "                print(f\"Day {prices.index[i]}\\nBUYING @ {price_today:.2f}\\nShares - USD: {shares:.6f}\\n\") #print buy\n",
        "\n",
        "        # If Sell signal generated today AND currently holding Bitcoin\n",
        "        elif sell_signal_today == -1 and holding_bitcoin:\n",
        "            cash_received = shares * price_today\n",
        "            capital = cash_received * (1 - fee_rate) # fee\n",
        "            shares = 0.0\n",
        "            holding_bitcoin = False\n",
        "            if print_out:\n",
        "                print(f\"Day {prices.index[i]}\\nSELL @ {price_today:.2f}\\nCapital - Bitcoin: {capital:.2f}\\n\") # Optional logging\n",
        "\n",
        "    # At the end of the sequence, sell remaining bitcoin (if any) at the final price to see how much was earned\n",
        "    if holding_bitcoin:\n",
        "        final_price = prices.iloc[-1]\n",
        "        if pd.notna(final_price) and final_price > 0:\n",
        "            cash_received = shares * final_price\n",
        "            capital = cash_received * (1 - fee_rate) # Fee\n",
        "            shares = 0.0\n",
        "            holding_bitcoin = False\n",
        "            if print_out:\n",
        "                print(f\"End Liquidation\\nSELL @ {final_price:.2f}\\n\")\n",
        "                print(f\"Final capital for SMA({SMA1}, {SMA2}): Final Capital - USD: ${capital:.2f}\\n\")\n",
        "    else:\n",
        "        if print_out:\n",
        "            print(f\"Final capital for SMA({SMA1}, {SMA2}): Final Capital - USD: ${capital:.2f}\\n\")\n",
        "    return -capital # Trying to minimise hence the negative sign"
      ]
    },
    {
      "cell_type": "markdown",
      "metadata": {
        "id": "m_W7qtcY4YDr"
      },
      "source": [
        "### Model Training"
      ]
    },
    {
      "cell_type": "code",
      "execution_count": 8,
      "metadata": {
        "colab": {
          "base_uri": "https://localhost:8080/"
        },
        "id": "6NnGdRaT4YDs",
        "outputId": "0e6c0a3d-49d2-4952-8c89-7ab5ace38353"
      },
      "outputs": [],
      "source": [
        "def firefly_fitness_wrapper():\n",
        "    def wrapped_firefly_fitness(X):\n",
        "        return simulate_trading(X=X)\n",
        "    return wrapped_firefly_fitness\n",
        "\n",
        "# Please edit these parameters before running unless you want to wait minutes for the model to run\n",
        "# firefly = FireflyAlgorithm(pop_size=100, alpha=0.5, betamin=0.2, gamma=1.0, seed=42)\n",
        "fitness_fn = firefly_fitness_wrapper()\n",
        "# best_score, best_params = firefly.run(fitness_fn, dim=2, lb=np.array([1, 2]), ub=np.array([790, 791]), max_evals=1000)\n",
        "#print(f\"Final Capital: {-best_score}\")\n",
        "# print(f\"Best Parameters: SMA1={best_params[0]}, SMA2={best_params[1]}\")"
      ]
    },
    {
      "cell_type": "code",
      "execution_count": 8,
      "metadata": {
        "colab": {
          "base_uri": "https://localhost:8080/"
        },
        "id": "7WzGC_8jbfit",
        "outputId": "83d43b66-4591-480f-ac0b-40e30f6e44fa"
      },
      "outputs": [],
      "source": [
        "# print(str(-simulate_trading(best_params, prices=test_prices, print_out=True)))"
      ]
    },
    {
      "cell_type": "code",
      "execution_count": 42,
      "metadata": {},
      "outputs": [
        {
          "data": {
            "image/png": "[encoded data removed]",
            "text/plain": [
              "<Figure size 640x480 with 1 Axes>"
            ]
          },
          "metadata": {},
          "output_type": "display_data"
        }
      ],
      "source": [
        "def incremental_firefly(increments = 10,\n",
        "                        pop_size=25, alpha=0.5, betamin=0.2, gamma=1.0, seed=42,\n",
        "                        fitness_fn=fitness_fn, dim=2, lb=np.array([1, 2]), ub=np.array([790, 791]), max_evals=1000):\n",
        "    results = []\n",
        "    training_scores = []\n",
        "    firefly = FireflyAlgorithm(pop_size=pop_size, alpha=alpha, betamin=betamin, gamma=gamma, seed=seed)\n",
        "    for x in range(increments):\n",
        "        best_score, best_params = firefly.run(fitness_fn, dim=dim, lb=lb, ub=ub, \n",
        "                                              max_evals=int((max_evals*x+1)/increments))\n",
        "        results.append(-simulate_trading(best_params, prices=test_prices))\n",
        "        training_scores.append(-best_score)\n",
        "    return results, training_scores\n",
        "\n",
        "increments = 10\n",
        "evals = 10000\n",
        "alpha = 0.5\n",
        "betamin = 0.2\n",
        "gamma = 0.9\n",
        "pop_size = 25\n",
        "\n",
        "results, training_scores = incremental_firefly(increments=increments, pop_size = pop_size, \n",
        "                                                   alpha=alpha, betamin=betamin, gamma = gamma, max_evals=evals)\n",
        "results = np.array(results)\n",
        "training_scores = np.array(training_scores)\n",
        "\n",
        "x_values = (np.arange(len(results)) + 1) * (evals/increments)\n",
        "\n",
        "plt.plot(x_values, results, marker='o')\n",
        "\n",
        "for i in range(len(x_values)):\n",
        "    plt.text(x_values[i], results[i], f'({int(x_values[i])},{int(results[i])})', fontsize=6, ha='right')\n",
        "    plt.text(x_values[i], training_scores[i], f'({int(x_values[i])},{int(training_scores[i])})', fontsize=6, ha='right')\n",
        "\n",
        "plt.plot(x_values, training_scores, marker='o')\n",
        "\n",
        "plt.xlabel('Evaluations')\n",
        "plt.ylabel('Final Score')\n",
        "plt.title('Graph of evaluations vs final score')\n",
        "plt.grid()\n",
        "\n",
        "variable_info = (f'increments: {increments}\\n'\n",
        "                 f'evals: {evals}\\n'\n",
        "                 f'alpha: {alpha}\\n'\n",
        "                 f'betamin: {betamin}\\n'\n",
        "                 f'gamma: {gamma}\\n'\n",
        "                 f'pop_size: {pop_size}')\n",
        "\n",
        "plt.text(0.8, 0.5, variable_info, transform=plt.gca().transAxes, fontsize=8,\n",
        "         verticalalignment='top', bbox=dict(facecolor='white', alpha=0.5))\n",
        "\n",
        "plt.show()\n"
      ]
    }
  ],
  "metadata": {
    "colab": {
      "include_colab_link": true,
      "provenance": []
    },
    "kernelspec": {
      "display_name": "Python 3",
      "language": "python",
      "name": "python3"
    },
    "language_info": {
      "codemirror_mode": {
        "name": "ipython",
        "version": 3
      },
      "file_extension": ".py",
      "mimetype": "text/x-python",
      "name": "python",
      "nbconvert_exporter": "python",
      "pygments_lexer": "ipython3",
      "version": "3.13.2"
    }
  },
  "nbformat": 4,
  "nbformat_minor": 0
}
