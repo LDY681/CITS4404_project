{
  "cells": [
    {
      "cell_type": "markdown",
      "metadata": {
        "id": "view-in-github",
        "colab_type": "text"
      },
      "source": [
        "<a href=\"https://colab.research.google.com/github/LDY681/CITS4404_project/blob/master/CITS4404.ipynb\" target=\"_parent\"><img src=\"https://colab.research.google.com/assets/colab-badge.svg\" alt=\"Open In Colab\"/></a>"
      ]
    },
    {
      "cell_type": "markdown",
      "metadata": {
        "id": "32yCsRUo8H33"
      },
      "source": [
        "# CITS4404 Firefly Algorithm Trading Bot\n",
        "#### by: Davinh Dang (22717235), Dayu Liu (24188516), Ethan Young (23450844), Flavian Jerotich (24001784), Kushan Jayasekera (24205163), Xin Wang (24201533)"
      ]
    },
    {
      "cell_type": "markdown",
      "metadata": {
        "id": "faX-bGXZbfiq"
      },
      "source": [
        "# README\n",
        "This folder contains this `ipynb` file to run bot training and trading, dataset is imported from kaggle."
      ]
    },
    {
      "cell_type": "markdown",
      "metadata": {
        "id": "6po98qVA8bJD"
      },
      "source": [
        "# 1. Dataset Processing and Filter Implementation\n",
        "This step involves processing kaggle dataset. Dates and Closing prices are extracted with their corresponding values, ready for use for further processing for the analysis.\n",
        "### Get required Python Modules"
      ]
    },
    {
      "cell_type": "code",
      "execution_count": null,
      "metadata": {
        "id": "MMaCJRj2bfir",
        "outputId": "1255d1d7-8477-474b-f917-5e8ad5ac58dd",
        "colab": {
          "base_uri": "https://localhost:8080/"
        }
      },
      "outputs": [
        {
          "output_type": "stream",
          "name": "stdout",
          "text": [
            "Requirement already satisfied: torch in /usr/local/lib/python3.11/dist-packages (2.6.0+cu124)\n",
            "Requirement already satisfied: filelock in /usr/local/lib/python3.11/dist-packages (from torch) (3.18.0)\n",
            "Requirement already satisfied: typing-extensions>=4.10.0 in /usr/local/lib/python3.11/dist-packages (from torch) (4.13.2)\n",
            "Requirement already satisfied: networkx in /usr/local/lib/python3.11/dist-packages (from torch) (3.4.2)\n",
            "Requirement already satisfied: jinja2 in /usr/local/lib/python3.11/dist-packages (from torch) (3.1.6)\n",
            "Requirement already satisfied: fsspec in /usr/local/lib/python3.11/dist-packages (from torch) (2025.3.2)\n",
            "Collecting nvidia-cuda-nvrtc-cu12==12.4.127 (from torch)\n",
            "  Downloading nvidia_cuda_nvrtc_cu12-12.4.127-py3-none-manylinux2014_x86_64.whl.metadata (1.5 kB)\n",
            "Collecting nvidia-cuda-runtime-cu12==12.4.127 (from torch)\n",
            "  Downloading nvidia_cuda_runtime_cu12-12.4.127-py3-none-manylinux2014_x86_64.whl.metadata (1.5 kB)\n",
            "Collecting nvidia-cuda-cupti-cu12==12.4.127 (from torch)\n",
            "  Downloading nvidia_cuda_cupti_cu12-12.4.127-py3-none-manylinux2014_x86_64.whl.metadata (1.6 kB)\n",
            "Collecting nvidia-cudnn-cu12==9.1.0.70 (from torch)\n",
            "  Downloading nvidia_cudnn_cu12-9.1.0.70-py3-none-manylinux2014_x86_64.whl.metadata (1.6 kB)\n",
            "Collecting nvidia-cublas-cu12==12.4.5.8 (from torch)\n",
            "  Downloading nvidia_cublas_cu12-12.4.5.8-py3-none-manylinux2014_x86_64.whl.metadata (1.5 kB)\n",
            "Collecting nvidia-cufft-cu12==11.2.1.3 (from torch)\n",
            "  Downloading nvidia_cufft_cu12-11.2.1.3-py3-none-manylinux2014_x86_64.whl.metadata (1.5 kB)\n",
            "Collecting nvidia-curand-cu12==10.3.5.147 (from torch)\n",
            "  Downloading nvidia_curand_cu12-10.3.5.147-py3-none-manylinux2014_x86_64.whl.metadata (1.5 kB)\n",
            "Collecting nvidia-cusolver-cu12==11.6.1.9 (from torch)\n",
            "  Downloading nvidia_cusolver_cu12-11.6.1.9-py3-none-manylinux2014_x86_64.whl.metadata (1.6 kB)\n",
            "Collecting nvidia-cusparse-cu12==12.3.1.170 (from torch)\n",
            "  Downloading nvidia_cusparse_cu12-12.3.1.170-py3-none-manylinux2014_x86_64.whl.metadata (1.6 kB)\n",
            "Requirement already satisfied: nvidia-cusparselt-cu12==0.6.2 in /usr/local/lib/python3.11/dist-packages (from torch) (0.6.2)\n",
            "Requirement already satisfied: nvidia-nccl-cu12==2.21.5 in /usr/local/lib/python3.11/dist-packages (from torch) (2.21.5)\n",
            "Requirement already satisfied: nvidia-nvtx-cu12==12.4.127 in /usr/local/lib/python3.11/dist-packages (from torch) (12.4.127)\n",
            "Collecting nvidia-nvjitlink-cu12==12.4.127 (from torch)\n",
            "  Downloading nvidia_nvjitlink_cu12-12.4.127-py3-none-manylinux2014_x86_64.whl.metadata (1.5 kB)\n",
            "Requirement already satisfied: triton==3.2.0 in /usr/local/lib/python3.11/dist-packages (from torch) (3.2.0)\n",
            "Requirement already satisfied: sympy==1.13.1 in /usr/local/lib/python3.11/dist-packages (from torch) (1.13.1)\n",
            "Requirement already satisfied: mpmath<1.4,>=1.1.0 in /usr/local/lib/python3.11/dist-packages (from sympy==1.13.1->torch) (1.3.0)\n",
            "Requirement already satisfied: MarkupSafe>=2.0 in /usr/local/lib/python3.11/dist-packages (from jinja2->torch) (3.0.2)\n",
            "Downloading nvidia_cublas_cu12-12.4.5.8-py3-none-manylinux2014_x86_64.whl (363.4 MB)\n",
            "\u001b[2K   \u001b[90m━━━━━━━━━━━━━━━━━━━━━━━━━━━━━━━━━━━━━━━━\u001b[0m \u001b[32m363.4/363.4 MB\u001b[0m \u001b[31m1.6 MB/s\u001b[0m eta \u001b[36m0:00:00\u001b[0m\n",
            "\u001b[?25hDownloading nvidia_cuda_cupti_cu12-12.4.127-py3-none-manylinux2014_x86_64.whl (13.8 MB)\n",
            "\u001b[2K   \u001b[90m━━━━━━━━━━━━━━━━━━━━━━━━━━━━━━━━━━━━━━━━\u001b[0m \u001b[32m13.8/13.8 MB\u001b[0m \u001b[31m79.2 MB/s\u001b[0m eta \u001b[36m0:00:00\u001b[0m\n",
            "\u001b[?25hDownloading nvidia_cuda_nvrtc_cu12-12.4.127-py3-none-manylinux2014_x86_64.whl (24.6 MB)\n",
            "\u001b[2K   \u001b[90m━━━━━━━━━━━━━━━━━━━━━━━━━━━━━━━━━━━━━━━━\u001b[0m \u001b[32m24.6/24.6 MB\u001b[0m \u001b[31m59.3 MB/s\u001b[0m eta \u001b[36m0:00:00\u001b[0m\n",
            "\u001b[?25hDownloading nvidia_cuda_runtime_cu12-12.4.127-py3-none-manylinux2014_x86_64.whl (883 kB)\n",
            "\u001b[2K   \u001b[90m━━━━━━━━━━━━━━━━━━━━━━━━━━━━━━━━━━━━━━━━\u001b[0m \u001b[32m883.7/883.7 kB\u001b[0m \u001b[31m44.5 MB/s\u001b[0m eta \u001b[36m0:00:00\u001b[0m\n",
            "\u001b[?25hDownloading nvidia_cudnn_cu12-9.1.0.70-py3-none-manylinux2014_x86_64.whl (664.8 MB)\n",
            "\u001b[2K   \u001b[90m━━━━━━━━━━━━━━━━━━━━━━━━━━━━━━━━━━━━━━━\u001b[0m \u001b[32m664.8/664.8 MB\u001b[0m \u001b[31m802.6 kB/s\u001b[0m eta \u001b[36m0:00:00\u001b[0m\n",
            "\u001b[?25hDownloading nvidia_cufft_cu12-11.2.1.3-py3-none-manylinux2014_x86_64.whl (211.5 MB)\n",
            "\u001b[2K   \u001b[90m━━━━━━━━━━━━━━━━━━━━━━━━━━━━━━━━━━━━━━━━\u001b[0m \u001b[32m211.5/211.5 MB\u001b[0m \u001b[31m6.6 MB/s\u001b[0m eta \u001b[36m0:00:00\u001b[0m\n",
            "\u001b[?25hDownloading nvidia_curand_cu12-10.3.5.147-py3-none-manylinux2014_x86_64.whl (56.3 MB)\n",
            "\u001b[2K   \u001b[90m━━━━━━━━━━━━━━━━━━━━━━━━━━━━━━━━━━━━━━━━\u001b[0m \u001b[32m56.3/56.3 MB\u001b[0m \u001b[31m9.4 MB/s\u001b[0m eta \u001b[36m0:00:00\u001b[0m\n",
            "\u001b[?25hDownloading nvidia_cusolver_cu12-11.6.1.9-py3-none-manylinux2014_x86_64.whl (127.9 MB)\n",
            "\u001b[2K   \u001b[90m━━━━━━━━━━━━━━━━━━━━━━━━━━━━━━━━━━━━━━━━\u001b[0m \u001b[32m127.9/127.9 MB\u001b[0m \u001b[31m6.9 MB/s\u001b[0m eta \u001b[36m0:00:00\u001b[0m\n",
            "\u001b[?25hDownloading nvidia_cusparse_cu12-12.3.1.170-py3-none-manylinux2014_x86_64.whl (207.5 MB)\n",
            "\u001b[2K   \u001b[90m━━━━━━━━━━━━━━━━━━━━━━━━━━━━━━━━━━━━━━━━\u001b[0m \u001b[32m207.5/207.5 MB\u001b[0m \u001b[31m5.2 MB/s\u001b[0m eta \u001b[36m0:00:00\u001b[0m\n",
            "\u001b[?25hDownloading nvidia_nvjitlink_cu12-12.4.127-py3-none-manylinux2014_x86_64.whl (21.1 MB)\n",
            "\u001b[2K   \u001b[90m━━━━━━━━━━━━━━━━━━━━━━━━━━━━━━━━━━━━━━━━\u001b[0m \u001b[32m21.1/21.1 MB\u001b[0m \u001b[31m36.4 MB/s\u001b[0m eta \u001b[36m0:00:00\u001b[0m\n",
            "\u001b[?25hInstalling collected packages: nvidia-nvjitlink-cu12, nvidia-curand-cu12, nvidia-cufft-cu12, nvidia-cuda-runtime-cu12, nvidia-cuda-nvrtc-cu12, nvidia-cuda-cupti-cu12, nvidia-cublas-cu12, nvidia-cusparse-cu12, nvidia-cudnn-cu12, nvidia-cusolver-cu12\n",
            "  Attempting uninstall: nvidia-nvjitlink-cu12\n",
            "    Found existing installation: nvidia-nvjitlink-cu12 12.5.82\n",
            "    Uninstalling nvidia-nvjitlink-cu12-12.5.82:\n",
            "      Successfully uninstalled nvidia-nvjitlink-cu12-12.5.82\n",
            "  Attempting uninstall: nvidia-curand-cu12\n",
            "    Found existing installation: nvidia-curand-cu12 10.3.6.82\n",
            "    Uninstalling nvidia-curand-cu12-10.3.6.82:\n",
            "      Successfully uninstalled nvidia-curand-cu12-10.3.6.82\n",
            "  Attempting uninstall: nvidia-cufft-cu12\n",
            "    Found existing installation: nvidia-cufft-cu12 11.2.3.61\n",
            "    Uninstalling nvidia-cufft-cu12-11.2.3.61:\n",
            "      Successfully uninstalled nvidia-cufft-cu12-11.2.3.61\n",
            "  Attempting uninstall: nvidia-cuda-runtime-cu12\n",
            "    Found existing installation: nvidia-cuda-runtime-cu12 12.5.82\n",
            "    Uninstalling nvidia-cuda-runtime-cu12-12.5.82:\n",
            "      Successfully uninstalled nvidia-cuda-runtime-cu12-12.5.82\n",
            "  Attempting uninstall: nvidia-cuda-nvrtc-cu12\n",
            "    Found existing installation: nvidia-cuda-nvrtc-cu12 12.5.82\n",
            "    Uninstalling nvidia-cuda-nvrtc-cu12-12.5.82:\n",
            "      Successfully uninstalled nvidia-cuda-nvrtc-cu12-12.5.82\n",
            "  Attempting uninstall: nvidia-cuda-cupti-cu12\n",
            "    Found existing installation: nvidia-cuda-cupti-cu12 12.5.82\n",
            "    Uninstalling nvidia-cuda-cupti-cu12-12.5.82:\n",
            "      Successfully uninstalled nvidia-cuda-cupti-cu12-12.5.82\n",
            "  Attempting uninstall: nvidia-cublas-cu12\n",
            "    Found existing installation: nvidia-cublas-cu12 12.5.3.2\n",
            "    Uninstalling nvidia-cublas-cu12-12.5.3.2:\n",
            "      Successfully uninstalled nvidia-cublas-cu12-12.5.3.2\n",
            "  Attempting uninstall: nvidia-cusparse-cu12\n",
            "    Found existing installation: nvidia-cusparse-cu12 12.5.1.3\n",
            "    Uninstalling nvidia-cusparse-cu12-12.5.1.3:\n",
            "      Successfully uninstalled nvidia-cusparse-cu12-12.5.1.3\n",
            "  Attempting uninstall: nvidia-cudnn-cu12\n",
            "    Found existing installation: nvidia-cudnn-cu12 9.3.0.75\n",
            "    Uninstalling nvidia-cudnn-cu12-9.3.0.75:\n",
            "      Successfully uninstalled nvidia-cudnn-cu12-9.3.0.75\n",
            "  Attempting uninstall: nvidia-cusolver-cu12\n",
            "    Found existing installation: nvidia-cusolver-cu12 11.6.3.83\n",
            "    Uninstalling nvidia-cusolver-cu12-11.6.3.83:\n",
            "      Successfully uninstalled nvidia-cusolver-cu12-11.6.3.83\n",
            "Successfully installed nvidia-cublas-cu12-12.4.5.8 nvidia-cuda-cupti-cu12-12.4.127 nvidia-cuda-nvrtc-cu12-12.4.127 nvidia-cuda-runtime-cu12-12.4.127 nvidia-cudnn-cu12-9.1.0.70 nvidia-cufft-cu12-11.2.1.3 nvidia-curand-cu12-10.3.5.147 nvidia-cusolver-cu12-11.6.1.9 nvidia-cusparse-cu12-12.3.1.170 nvidia-nvjitlink-cu12-12.4.127\n",
            "Requirement already satisfied: numpy in /usr/local/lib/python3.11/dist-packages (2.0.2)\n",
            "Requirement already satisfied: pandas in /usr/local/lib/python3.11/dist-packages (2.2.2)\n",
            "Requirement already satisfied: numpy>=1.23.2 in /usr/local/lib/python3.11/dist-packages (from pandas) (2.0.2)\n",
            "Requirement already satisfied: python-dateutil>=2.8.2 in /usr/local/lib/python3.11/dist-packages (from pandas) (2.9.0.post0)\n",
            "Requirement already satisfied: pytz>=2020.1 in /usr/local/lib/python3.11/dist-packages (from pandas) (2025.2)\n",
            "Requirement already satisfied: tzdata>=2022.7 in /usr/local/lib/python3.11/dist-packages (from pandas) (2025.2)\n",
            "Requirement already satisfied: six>=1.5 in /usr/local/lib/python3.11/dist-packages (from python-dateutil>=2.8.2->pandas) (1.17.0)\n",
            "Requirement already satisfied: kagglehub in /usr/local/lib/python3.11/dist-packages (0.3.12)\n",
            "Requirement already satisfied: packaging in /usr/local/lib/python3.11/dist-packages (from kagglehub) (24.2)\n",
            "Requirement already satisfied: pyyaml in /usr/local/lib/python3.11/dist-packages (from kagglehub) (6.0.2)\n",
            "Requirement already satisfied: requests in /usr/local/lib/python3.11/dist-packages (from kagglehub) (2.32.3)\n",
            "Requirement already satisfied: tqdm in /usr/local/lib/python3.11/dist-packages (from kagglehub) (4.67.1)\n",
            "Requirement already satisfied: charset-normalizer<4,>=2 in /usr/local/lib/python3.11/dist-packages (from requests->kagglehub) (3.4.1)\n",
            "Requirement already satisfied: idna<4,>=2.5 in /usr/local/lib/python3.11/dist-packages (from requests->kagglehub) (3.10)\n",
            "Requirement already satisfied: urllib3<3,>=1.21.1 in /usr/local/lib/python3.11/dist-packages (from requests->kagglehub) (2.4.0)\n",
            "Requirement already satisfied: certifi>=2017.4.17 in /usr/local/lib/python3.11/dist-packages (from requests->kagglehub) (2025.1.31)\n"
          ]
        }
      ],
      "source": [
        "# TODO Required modules\n",
        "!pip install torch\n",
        "!pip install numpy\n",
        "!pip install pandas\n",
        "!pip install kagglehub"
      ]
    },
    {
      "cell_type": "code",
      "execution_count": null,
      "metadata": {
        "id": "XRNDIqgAbfir"
      },
      "outputs": [],
      "source": [
        "# Import libraries\n",
        "# Essentials\n",
        "import numpy as np\n",
        "\n",
        "# Data Processing\n",
        "import pandas as pd\n",
        "import kagglehub\n",
        "\n",
        "# FIXME Modeling\n",
        "import torch\n",
        "import torch.nn as nn\n",
        "import torch.optim as optim\n",
        "import torch.nn.functional as F\n",
        "from torch.nn.utils.rnn import pad_sequence\n",
        "import time\n"
      ]
    },
    {
      "cell_type": "markdown",
      "metadata": {
        "id": "DkhSq4TYbfis"
      },
      "source": [
        "### Data Processing"
      ]
    },
    {
      "cell_type": "code",
      "execution_count": 31,
      "metadata": {
        "colab": {
          "base_uri": "https://localhost:8080/"
        },
        "id": "qvff21Hv8zjk",
        "outputId": "cf6d965b-46f0-4cc3-fe0f-b2f06d679c73"
      },
      "outputs": [
        {
          "output_type": "stream",
          "name": "stdout",
          "text": [
            "Path to dataset files: /kaggle/input/btcinusd\n",
            "Dates: 0   2014-11-28\n",
            "1   2014-11-29\n",
            "2   2014-11-30\n",
            "3   2014-12-01\n",
            "4   2014-12-02\n",
            "Name: date, dtype: datetime64[ns]\n",
            "Prices: 0    376.28\n",
            "1    376.72\n",
            "2    373.34\n",
            "3    378.39\n",
            "4    379.25\n",
            "Name: price, dtype: float64\n",
            "Test Dates: 1855   2019-12-27\n",
            "1856   2019-12-28\n",
            "1857   2019-12-29\n",
            "1858   2019-12-30\n",
            "1859   2019-12-31\n",
            "Name: date, dtype: datetime64[ns]\n",
            "Test Prices: 1855    7246.00\n",
            "1856    7296.24\n",
            "1857    7385.54\n",
            "1858    7220.24\n",
            "1859    7168.36\n",
            "Name: price, dtype: float64\n"
          ]
        }
      ],
      "source": [
        "# Download dataset from Kaggle\n",
        "path = kagglehub.dataset_download(\"prasoonkottarathil/btcinusd\")\n",
        "print(\"Path to dataset files:\", path)\n",
        "\n",
        "fileName = \"BTC-Daily.csv\"  #! Other candidates include BTC-{2017-2021}min.csv, BTC-Hourly.csv (Which are hourly data and may not be suitable)\n",
        "\n",
        "def preprocess_data(path, fileName):\n",
        "    file_path = f\"{path}/{fileName}\"\n",
        "    data = pd.read_csv(file_path)\n",
        "\n",
        "    dates = data['date'].tolist()\n",
        "    prices = data['close'].tolist()\n",
        "\n",
        "    df = pd.DataFrame({'date': dates, 'price': prices})\n",
        "    df['date'] = pd.to_datetime(df['date'])\n",
        "\n",
        "    test_df = df[~df['date'].dt.year.isin([2020, 2021, 2022])]\n",
        "    df = df.sort_values('date', ascending=True).reset_index(drop=True)\n",
        "    truncated_df = test_df.sort_values('date', ascending=True).reset_index(drop=True)\n",
        "\n",
        "    return [df, truncated_df]\n",
        "\n",
        "[train_df, test_df] = preprocess_data(path, fileName)\n",
        "\n",
        "# Variables for model\n",
        "dates = train_df['date']\n",
        "prices = train_df['price']\n",
        "test_dates = test_df['date']\n",
        "test_prices = test_df['price']\n",
        "\n",
        "print(\"Dates:\", dates[:5])\n",
        "print(\"Prices:\", prices[:5])\n",
        "print(\"Test Dates:\", test_dates[-5:])\n",
        "print(\"Test Prices:\", test_prices[-5:])"
      ]
    },
    {
      "cell_type": "markdown",
      "metadata": {
        "id": "Egn7YmIvbfis"
      },
      "source": [
        "### SMA Filter Implementation"
      ]
    },
    {
      "cell_type": "code",
      "execution_count": null,
      "metadata": {
        "colab": {
          "base_uri": "https://localhost:8080/"
        },
        "id": "T0FBGCfGbfis",
        "outputId": "86fa2323-a236-4966-af64-e740cea2de44"
      },
      "outputs": [
        {
          "name": "stdout",
          "output_type": "stream",
          "text": [
            "sma10: [42625.384 43034.841 43366.134 43218.01  42902.534]\n"
          ]
        }
      ],
      "source": [
        "def pad(P, N):\n",
        "    flip = np.flip(P[1:N]) # TODO The project instruction have a negate sign before the flip function, could be a typo\n",
        "    return np.append(flip, P)\n",
        "\n",
        "def sma_filter(P, N):\n",
        "    # pad the series\n",
        "    P_pad = pad(P, N)\n",
        "    # Roll the window and calculate the weighted average\n",
        "    sma_full = pd.Series(P_pad).rolling(window=N).mean().to_numpy()\n",
        "    return sma_full[N-1:]\n",
        "\n",
        "#! To generate an N-day SMA we can simply call\n",
        "sma10 = sma_filter(prices, 10)\n",
        "sma20 = sma_filter(prices, 20)\n",
        "print(\"sma10:\", sma10[20:25])"
      ]
    },
    {
      "cell_type": "markdown",
      "metadata": {
        "id": "1FA2ao2l8hOg"
      },
      "source": [
        "# 2. Model Implementation (TODO)\n"
      ]
    },
    {
      "cell_type": "markdown",
      "metadata": {
        "id": "by_-dN1mbfit"
      },
      "source": [
        "### Model's Hyperparameters (TODO)"
      ]
    },
    {
      "cell_type": "code",
      "execution_count": null,
      "metadata": {
        "id": "Kqg9KcoHbfit"
      },
      "outputs": [],
      "source": [
        "# Variable Initialization\n",
        "lb = 10 # Short-term moving average window size\n",
        "ub = 40 # Long-term moving average window size"
      ]
    },
    {
      "cell_type": "markdown",
      "metadata": {
        "id": "hGz5qMMzbfit"
      },
      "source": [
        "### Model Constructor"
      ]
    },
    {
      "cell_type": "code",
      "execution_count": null,
      "metadata": {
        "id": "2WH5n3j_bfit"
      },
      "outputs": [],
      "source": [
        "# FIXME from https://github.com/firefly-cpp/FireflyAlgorithm/blob/master/fireflyalgorithm/fireflyalgorithm.py\n",
        "import numpy as np\n",
        "from numpy.random import default_rng\n",
        "\n",
        "\n",
        "class FireflyAlgorithm:\n",
        "    def __init__(self, pop_size=20, alpha=1.0, betamin=1.0, gamma=0.01, seed=None):\n",
        "        self.pop_size = pop_size\n",
        "        self.alpha = alpha\n",
        "        self.betamin = betamin\n",
        "        self.gamma = gamma\n",
        "        self.rng = default_rng(seed)\n",
        "\n",
        "    def run(self, function, dim, lb, ub, max_evals):\n",
        "        fireflies = self.rng.uniform(lb, ub, (self.pop_size, dim))\n",
        "        intensity = np.apply_along_axis(function, 1, fireflies)\n",
        "        best = np.min(intensity)\n",
        "\n",
        "        evaluations = self.pop_size\n",
        "        new_alpha = self.alpha\n",
        "        search_range = ub - lb\n",
        "\n",
        "        while evaluations <= max_evals:\n",
        "            new_alpha *= 0.97\n",
        "            for i in range(self.pop_size):\n",
        "                for j in range(self.pop_size):\n",
        "                    if intensity[i] >= intensity[j]:\n",
        "                        r = np.sum(np.square(fireflies[i] - fireflies[j]), axis=-1)\n",
        "                        beta = self.betamin * np.exp(-self.gamma * r)\n",
        "                        steps = new_alpha * (self.rng.random(dim) - 0.5) * search_range\n",
        "                        fireflies[i] += beta * (fireflies[j] - fireflies[i]) + steps\n",
        "                        fireflies[i] = np.clip(fireflies[i], lb, ub)\n",
        "                        intensity[i] = function(fireflies[i])\n",
        "                        evaluations += 1\n",
        "                        best = min(intensity[i], best)\n",
        "        return best, fireflies[np.argmin(intensity)] # FIXME return not just the score but also best parameters"
      ]
    },
    {
      "cell_type": "markdown",
      "metadata": {
        "id": "yDWCJfYWbfit"
      },
      "source": [
        "### Model Training (TODO)"
      ]
    },
    {
      "cell_type": "code",
      "execution_count": null,
      "metadata": {
        "colab": {
          "base_uri": "https://localhost:8080/"
        },
        "id": "rfH5FvMXbfit",
        "outputId": "70f81e66-a8e0-4b0c-8fa6-06f8bf8b8879"
      },
      "outputs": [
        {
          "name": "stdout",
          "output_type": "stream",
          "text": [
            "(2734.820325344761, array([11.85363463, 24.05266677, 14.55685221, 31.68508371, 10.        ,\n",
            "       12.68994667, 18.47098485, 14.66098479, 16.59621893, 31.31314818]))\n",
            "Best Sharpe Ratio: -0.009866822220598415\n",
            "Best Parameters: SMA1=30.0, SMA2=31.14481295921547\n"
          ]
        }
      ],
      "source": [
        "# FIXME Example usage using sphere as fitness from https://github.com/firefly-cpp/FireflyAlgorithm/blob/master/fireflyalgorithm/problems.py and https://github.com/firefly-cpp/FireflyAlgorithm/blob/master/examples/run.py\n",
        "def sphere(x):\n",
        "    return np.sum(x**2)\n",
        "FA = FireflyAlgorithm()\n",
        "best = FA.run(function=sphere, dim=10, lb=lb, ub=ub, max_evals=10000)\n",
        "print(best)\n",
        "\n",
        "# FIXME from ChatGPT on how to apply our own fitness with SMA\n",
        "def firefly_fitness_wrapper(prices):\n",
        "    def wrapped_firefly_fitness(X):\n",
        "        sma1 = int(round(X[0]))\n",
        "        sma2 = int(round(X[1]))\n",
        "        if sma1 >= sma2:\n",
        "            return 1e9  #! HIGH value = BAD fitness (we minimize)\n",
        "        returns = backtest_strategy(sma1, sma2, prices)\n",
        "        score = -compute_sharpe_ratio(returns)  # We minimize, so negate Sharpe ratio\n",
        "        return score\n",
        "    return wrapped_firefly_fitness\n",
        "\n",
        "def backtest_strategy(SMA1, SMA2, prices):\n",
        "    sma1 = prices.rolling(window=int(SMA1)).mean()\n",
        "    sma2 = prices.rolling(window=int(SMA2)).mean()\n",
        "\n",
        "    signal = np.where(sma1 > sma2, 1, 0)\n",
        "    returns = prices.pct_change().shift(-1)  # Next-day return\n",
        "    strategy_returns = signal[:-1] * returns[1:]\n",
        "    return strategy_returns\n",
        "\n",
        "def compute_sharpe_ratio(returns):\n",
        "    mean_ret = np.mean(returns)\n",
        "    std_ret = np.std(returns)\n",
        "    if std_ret == 0:\n",
        "        return 0\n",
        "    return mean_ret / std_ret\n",
        "\n",
        "firefly = FireflyAlgorithm(pop_size=25, alpha=0.5, betamin=0.2, gamma=1.0, seed=42)\n",
        "fitness_fn = firefly_fitness_wrapper(prices)\n",
        "best_score, best_params = firefly.run(fitness_fn, dim=2, lb=np.array([5, 10]), ub=np.array([30, 60]), max_evals=1000)\n",
        "print(f\"Best Sharpe Ratio: {best_score}\")\n",
        "print(f\"Best Parameters: SMA1={best_params[0]}, SMA2={best_params[1]}\")"
      ]
    },
    {
      "cell_type": "markdown",
      "metadata": {
        "id": "EzGuzHPE87Ya"
      },
      "source": [
        "# 3. Trading strategy (TODO)"
      ]
    },
    {
      "cell_type": "code",
      "execution_count": null,
      "metadata": {
        "id": "46nYaSjebfit"
      },
      "outputs": [],
      "source": [
        "def simulate_trading(prices, SMA1, SMA2, initial_capital=1000, fee_rate=0.03, printLogs=False):\n",
        "    if SMA1 >= SMA2:\n",
        "        print(\"Warning: Short-term SMA window (SMA1) should be less than long-term SMA window (SMA2).\")\n",
        "        return -1\n",
        "\n",
        "    # --- 1. Calculate SMAs ---\n",
        "    sma_short = sma_filter(prices, SMA1)\n",
        "    sma_long = sma_filter(prices, SMA2)\n",
        "\n",
        "    # --- 2. Generate Crossover Signals ---\n",
        "    # Create a position state: 1 if sma_short > sma_long, -1 otherwise\n",
        "    # Use -1 for below/equal to simplify crossover detection\n",
        "    position_state = pd.Series(np.where(sma_short > sma_long, 1, -1), index=prices.index)\n",
        "\n",
        "    # Detect crossovers:\n",
        "    # Buy signal (1): state changes from -1 (below/equal) to 1 (above)\n",
        "    # Sell signal (-1): state changes from 1 (above) to -1 (below/equal)\n",
        "    # Use .diff() to find changes. A change from -1 to 1 is diff = 2. A change from 1 to -1 is diff = -2.\n",
        "    crossover = position_state.diff()\n",
        "    buy_signals = pd.Series(np.where(crossover == 2, 1, 0), index=prices.index)\n",
        "    sell_signals = pd.Series(np.where(crossover == -2, -1, 0), index=prices.index)\n",
        "\n",
        "    capital = float(initial_capital)\n",
        "    shares = 0.0\n",
        "    holding_bitcoin = False\n",
        "\n",
        "    start_index = max(SMA1, SMA2) # First day both SMAs are potentially valid (depends on sma_filter implementation)\n",
        "                                    # Crossover signal needs one more day due to diff()\n",
        "                                    # Ensure loop starts where crossover signal is not NaN\n",
        "\n",
        "    # --- 4. Simulation Loop ---\n",
        "    # Iterate through days where signals *could* be generated\n",
        "    for i in range(start_index, len(prices)):\n",
        "        price_today = prices.iloc[i]\n",
        "        buy_signal_today = buy_signals.iloc[i]\n",
        "        sell_signal_today = sell_signals.iloc[i]\n",
        "\n",
        "        # Check for invalid price\n",
        "        if pd.isna(price_today) or price_today <= 0:\n",
        "            continue # Skip day if price is invalid\n",
        "\n",
        "        # If Buy signal generated today AND currently holding cash\n",
        "        if buy_signal_today == 1 and not holding_bitcoin:\n",
        "            cash_to_spend = capital * (1 - fee_rate) # fee\n",
        "            shares = cash_to_spend / price_today\n",
        "            capital = 0.0\n",
        "            holding_bitcoin = True\n",
        "            if printLogs: print(f\"Day {prices.index[i]}\\nBUYING @ {price_today:.2f}\\nShares - USD: {shares:.6f}\\n\") #print buy\n",
        "\n",
        "        # If Sell signal generated today AND currently holding Bitcoin\n",
        "        elif sell_signal_today == -1 and holding_bitcoin:\n",
        "            cash_received = shares * price_today\n",
        "            capital = cash_received * (1 - fee_rate) # fee\n",
        "            shares = 0.0\n",
        "            holding_bitcoin = False\n",
        "            if printLogs: print(f\"Day {prices.index[i]}\\nSELL @ {price_today:.2f}\\nCapital - Bitcoin: {capital:.2f}\\n\") # Optional logging\n",
        "\n",
        "    # At the end of the sequence, sell remaining bitcoin (if any) at the final price to see how much was earned\n",
        "    if holding_bitcoin:\n",
        "        final_price = prices.iloc[-1]\n",
        "        if pd.notna(final_price) and final_price > 0:\n",
        "             cash_received = shares * final_price\n",
        "             capital = cash_received * (1 - fee_rate) # Fee\n",
        "             shares = 0.0\n",
        "             holding_bitcoin = False\n",
        "             if printLogs: print(f\"End Liquidation\\nSELL @ {final_price:.2f}\\n\")\n",
        "             print(f\"Final capital for SMA({SMA1}, {SMA2}): Final Capital - USD: ${capital:.2f}\\n\")\n",
        "    else:\n",
        "        print(f\"Final capital for SMA({SMA1}, {SMA2}): Final Capital - USD: ${capital:.2f}\\n\")"
      ]
    },
    {
      "cell_type": "code",
      "execution_count": null,
      "metadata": {
        "colab": {
          "base_uri": "https://localhost:8080/"
        },
        "id": "7WzGC_8jbfit",
        "outputId": "789303db-b629-4b81-91ad-f608c2f3cf57"
      },
      "outputs": [
        {
          "name": "stdout",
          "output_type": "stream",
          "text": [
            "Final capital for SMA(10, 100): Final Capital - USD: $217.33\n",
            "\n"
          ]
        }
      ],
      "source": [
        "# Assume you already got these from Firefly output:\n",
        "best_sma1, best_sma2 = 10, 20\n",
        "\n",
        "simulate_trading(prices, best_sma1, best_sma2)"
      ]
    }
  ],
  "metadata": {
    "colab": {
      "provenance": [],
      "include_colab_link": true
    },
    "kernelspec": {
      "display_name": "base",
      "language": "python",
      "name": "python3"
    },
    "language_info": {
      "codemirror_mode": {
        "name": "ipython",
        "version": 3
      },
      "file_extension": ".py",
      "mimetype": "text/x-python",
      "name": "python",
      "nbconvert_exporter": "python",
      "pygments_lexer": "ipython3",
      "version": "3.12.7"
    }
  },
  "nbformat": 4,
  "nbformat_minor": 0
}