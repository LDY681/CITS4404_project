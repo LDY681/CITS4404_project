{
  "cells": [
    {
      "cell_type": "markdown",
      "metadata": {
        "colab_type": "text",
        "id": "view-in-github"
      },
      "source": [
        "<a href=\"https://colab.research.google.com/github/LDY681/CITS4404_project/blob/master/CITS4404.ipynb\" target=\"_parent\"><img src=\"https://colab.research.google.com/assets/colab-badge.svg\" alt=\"Open In Colab\"/></a>"
      ]
    },
    {
      "cell_type": "markdown",
      "metadata": {
        "id": "32yCsRUo8H33"
      },
      "source": [
        "# CITS4404 Firefly Algorithm Trading Bot\n",
        "#### by: Davinh Dang (22717235), Dayu Liu (24188516), Ethan Young (23450844), Flavian Jerotich (24001784), Kushan Jayasekera (24205163), Xin Wang (24201533)"
      ]
    },
    {
      "cell_type": "markdown",
      "metadata": {
        "id": "faX-bGXZbfiq"
      },
      "source": [
        "# README\n",
        "This folder contains this `ipynb` file to run bot training and trading, dataset is imported from kaggle."
      ]
    },
    {
      "cell_type": "markdown",
      "metadata": {
        "id": "6po98qVA8bJD"
      },
      "source": [
        "# 1. Dataset Processing and Filter Implementation\n",
        "This step involves processing kaggle dataset. Dates and Closing prices are extracted with their corresponding values, ready for use for further processing for the analysis.\n",
        "### Get required Python Modules"
      ]
    },
    {
      "cell_type": "code",
      "execution_count": null,
      "metadata": {
        "id": "MMaCJRj2bfir",
        "outputId": "eec15363-1430-4ef6-de6f-4777d716ea91"
      },
      "outputs": [],
      "source": [
        "# TODO Required modules\n",
        "!pip install torch\n",
        "!pip install numpy\n",
        "!pip install pandas\n",
        "!pip install kagglehub"
      ]
    },
    {
      "cell_type": "code",
      "execution_count": 51,
      "metadata": {
        "id": "XRNDIqgAbfir"
      },
      "outputs": [],
      "source": [
        "# Import libraries\n",
        "# Essentials\n",
        "import numpy as np\n",
        "\n",
        "# Data Processing\n",
        "import pandas as pd\n",
        "import kagglehub\n",
        "\n",
        "# FIXME Modeling\n",
        "import torch\n",
        "import torch.nn as nn\n",
        "import torch.optim as optim\n",
        "import torch.nn.functional as F\n",
        "from torch.nn.utils.rnn import pad_sequence\n",
        "import time\n"
      ]
    },
    {
      "cell_type": "markdown",
      "metadata": {
        "id": "DkhSq4TYbfis"
      },
      "source": [
        "### Data Processing"
      ]
    },
    {
      "cell_type": "markdown",
      "metadata": {
        "id": "Egn7YmIvbfis"
      },
      "source": [
        "### SMA Filter Implementation"
      ]
    },
    {
      "cell_type": "code",
      "execution_count": null,
      "metadata": {
        "colab": {
          "base_uri": "https://localhost:8080/"
        },
        "id": "T0FBGCfGbfis",
        "outputId": "86fa2323-a236-4966-af64-e740cea2de44"
      },
      "outputs": [],
      "source": [
        "def pad(P, N):\n",
        "    flip = np.flip(P[1:N]) # TODO The project instruction have a negate sign before the flip function, could be a typo\n",
        "    return np.append(flip, P)\n",
        "\n",
        "def sma_filter(P, N):\n",
        "    # pad the series\n",
        "    P_pad = pad(P, N)\n",
        "    # Roll the window and calculate the weighted average\n",
        "    sma_full = pd.Series(P_pad).rolling(window=N).mean().to_numpy()\n",
        "    return sma_full[N-1:]\n",
        "\n",
        "#! To generate an N-day SMA we can simply call\n",
        "sma10 = sma_filter(prices, 10)\n",
        "sma20 = sma_filter(prices, 20)\n",
        "print(\"sma10:\", sma10[20:25])"
      ]
    },
    {
      "cell_type": "markdown",
      "metadata": {
        "id": "1FA2ao2l8hOg"
      },
      "source": [
        "# 2. Model Implementation (TODO)\n"
      ]
    },
    {
      "cell_type": "markdown",
      "metadata": {
        "id": "by_-dN1mbfit"
      },
      "source": [
        "### Model's Hyperparameters (TODO)"
      ]
    },
    {
      "cell_type": "code",
      "execution_count": 53,
      "metadata": {
        "id": "Kqg9KcoHbfit"
      },
      "outputs": [],
      "source": [
        "# Variable Initialization\n",
        "lb = 10 # Short-term moving average window size\n",
        "ub = 40 # Long-term moving average window size"
      ]
    },
    {
      "cell_type": "markdown",
      "metadata": {
        "id": "hGz5qMMzbfit"
      },
      "source": [
        "### Model Constructor"
      ]
    },
    {
      "cell_type": "code",
      "execution_count": 54,
      "metadata": {
        "id": "2WH5n3j_bfit"
      },
      "outputs": [],
      "source": [
        "# FIXME from https://github.com/firefly-cpp/FireflyAlgorithm/blob/master/fireflyalgorithm/fireflyalgorithm.py\n",
        "import numpy as np\n",
        "from numpy.random import default_rng\n",
        "\n",
        "\n",
        "class FireflyAlgorithm:\n",
        "    def __init__(self, pop_size=20, alpha=1.0, betamin=1.0, gamma=0.01, seed=None):\n",
        "        self.pop_size = pop_size\n",
        "        self.alpha = alpha\n",
        "        self.betamin = betamin\n",
        "        self.gamma = gamma\n",
        "        self.rng = default_rng(seed)\n",
        "\n",
        "    def run(self, function, dim, lb, ub, max_evals):\n",
        "        fireflies = self.rng.uniform(lb, ub, (self.pop_size, dim))\n",
        "        intensity = np.apply_along_axis(function, 1, fireflies)\n",
        "        best = np.min(intensity)\n",
        "\n",
        "        evaluations = self.pop_size\n",
        "        new_alpha = self.alpha\n",
        "        search_range = ub - lb\n",
        "\n",
        "        while evaluations <= max_evals:\n",
        "            new_alpha *= 0.97\n",
        "            for i in range(self.pop_size):\n",
        "                for j in range(self.pop_size):\n",
        "                    if intensity[i] >= intensity[j]:\n",
        "                        r = np.sum(np.square(fireflies[i] - fireflies[j]), axis=-1)\n",
        "                        beta = self.betamin * np.exp(-self.gamma * r)\n",
        "                        steps = new_alpha * (self.rng.random(dim) - 0.5) * search_range\n",
        "                        fireflies[i] += beta * (fireflies[j] - fireflies[i]) + steps\n",
        "                        fireflies[i] = np.clip(fireflies[i], lb, ub)\n",
        "                        intensity[i] = function(fireflies[i])\n",
        "                        evaluations += 1\n",
        "                        best = min(intensity[i], best)\n",
        "        return best, fireflies[np.argmin(intensity)] # FIXME return not just the score but also best parameters"
      ]
    },
    {
      "cell_type": "markdown",
      "metadata": {
        "id": "EzGuzHPE87Ya"
      },
      "source": [
        "# 3. Trading strategy (TODO)"
      ]
    },
    {
      "cell_type": "code",
      "execution_count": 55,
      "metadata": {
        "id": "46nYaSjebfit"
      },
      "outputs": [],
      "source": [
        "def simulate_trading(X, prices=prices, initial_capital=1000, fee_rate=0.03, print_out = False):\n",
        "    SMA1 = round(X[0])\n",
        "    SMA2 = round(X[1])\n",
        "    if SMA1 >= SMA2:\n",
        "        if print_out:\n",
        "            print(\"Warning: Short-term SMA window (SMA1) should be less than long-term SMA window (SMA2).\")\n",
        "        return 1e9\n",
        "\n",
        "    # --- 1. Calculate SMAs ---\n",
        "    sma_short = sma_filter(prices, SMA1)\n",
        "    sma_long = sma_filter(prices, SMA2)\n",
        "\n",
        "    # --- 2. Generate Crossover Signals ---\n",
        "    # Create a position state: 1 if sma_short > sma_long, -1 otherwise\n",
        "    # Use -1 for below/equal to simplify crossover detection\n",
        "    position_state = pd.Series(np.where(sma_short > sma_long, 1, -1), index=prices.index)\n",
        "\n",
        "    # Detect crossovers:\n",
        "    # Buy signal (1): state changes from -1 (below/equal) to 1 (above)\n",
        "    # Sell signal (-1): state changes from 1 (above) to -1 (below/equal)\n",
        "    # Use .diff() to find changes. A change from -1 to 1 is diff = 2. A change from 1 to -1 is diff = -2.\n",
        "    crossover = position_state.diff()\n",
        "    buy_signals = pd.Series(np.where(crossover == 2, 1, 0), index=prices.index)\n",
        "    sell_signals = pd.Series(np.where(crossover == -2, -1, 0), index=prices.index)\n",
        "\n",
        "    capital = float(initial_capital)\n",
        "    shares = 0.0\n",
        "    holding_bitcoin = False\n",
        "\n",
        "    start_index = max(SMA1, SMA2) # First day both SMAs are potentially valid (depends on sma_filter implementation)\n",
        "                                    # Crossover signal needs one more day due to diff()\n",
        "                                    # Ensure loop starts where crossover signal is not NaN\n",
        "\n",
        "    # --- 4. Simulation Loop ---\n",
        "    # Iterate through days where signals *could* be generated\n",
        "    for i in range(start_index, len(prices)):\n",
        "        price_today = prices.iloc[i]\n",
        "        buy_signal_today = buy_signals.iloc[i]\n",
        "        sell_signal_today = sell_signals.iloc[i]\n",
        "\n",
        "        # Check for invalid price\n",
        "        if pd.isna(price_today) or price_today <= 0:\n",
        "            continue # Skip day if price is invalid\n",
        "\n",
        "        # If Buy signal generated today AND currently holding cash\n",
        "        if buy_signal_today == 1 and not holding_bitcoin:\n",
        "            cash_to_spend = capital * (1 - fee_rate) # fee\n",
        "            shares = cash_to_spend / price_today\n",
        "            capital = 0.0\n",
        "            holding_bitcoin = True\n",
        "            if print_out:\n",
        "                print(f\"Day {prices.index[i]}\\nBUYING @ {price_today:.2f}\\nShares - USD: {shares:.6f}\\n\") #print buy\n",
        "\n",
        "        # If Sell signal generated today AND currently holding Bitcoin\n",
        "        elif sell_signal_today == -1 and holding_bitcoin:\n",
        "            cash_received = shares * price_today\n",
        "            capital = cash_received * (1 - fee_rate) # fee\n",
        "            shares = 0.0\n",
        "            holding_bitcoin = False\n",
        "            if print_out:\n",
        "                print(f\"Day {prices.index[i]}\\nSELL @ {price_today:.2f}\\nCapital - Bitcoin: {capital:.2f}\\n\") # Optional logging\n",
        "\n",
        "    # At the end of the sequence, sell remaining bitcoin (if any) at the final price to see how much was earned\n",
        "    if holding_bitcoin:\n",
        "        final_price = prices.iloc[-1]\n",
        "        if pd.notna(final_price) and final_price > 0:\n",
        "            cash_received = shares * final_price\n",
        "            capital = cash_received * (1 - fee_rate) # Fee\n",
        "            shares = 0.0\n",
        "            holding_bitcoin = False\n",
        "            if print_out:\n",
        "                print(f\"End Liquidation\\nSELL @ {final_price:.2f}\\n\")\n",
        "                print(f\"Final capital for SMA({SMA1}, {SMA2}): Final Capital - USD: ${capital:.2f}\\n\")\n",
        "    else:\n",
        "        if print_out:\n",
        "            print(f\"Final capital for SMA({SMA1}, {SMA2}): Final Capital - USD: ${capital:.2f}\\n\")\n",
        "    return -capital"
      ]
    },
    {
      "cell_type": "markdown",
      "metadata": {},
      "source": [
        "### Model Training (TODO)"
      ]
    },
    {
      "cell_type": "code",
      "execution_count": null,
      "metadata": {},
      "outputs": [],
      "source": [
        "# FIXME from ChatGPT on how to apply our own fitness with SMA\n",
        "def firefly_fitness_wrapper(prices):\n",
        "    def wrapped_firefly_fitness(X):\n",
        "        return simulate_trading(X=X)\n",
        "    return wrapped_firefly_fitness\n",
        "\n",
        "# please edit these parameters before running unless you want to wait minutes for the model to run\n",
        "firefly = FireflyAlgorithm(pop_size=100, alpha=0.5, betamin=0.2, gamma=1.0, seed=42)\n",
        "fitness_fn = firefly_fitness_wrapper(prices)\n",
        "best_score, best_params = firefly.run(fitness_fn, dim=2, lb=np.array([5, 10]), ub=np.array([30, 60]), max_evals=10000)\n",
        "print(f\"Final Capital: {-best_score}\")\n",
        "print(f\"Best Parameters: SMA1={best_params[0]}, SMA2={best_params[1]}\")"
      ]
    },
    {
      "cell_type": "code",
      "execution_count": null,
      "metadata": {
        "colab": {
          "base_uri": "https://localhost:8080/"
        },
        "id": "7WzGC_8jbfit",
        "outputId": "789303db-b629-4b81-91ad-f608c2f3cf57"
      },
      "outputs": [],
      "source": [
        "# Sample values from these parameters:\n",
        "# firefly = FireflyAlgorithm(pop_size=100, alpha=0.5, betamin=0.2, gamma=1.0, seed=42)\n",
        "# best_score, best_params = firefly.run(fitness_fn, dim=2, lb=np.array([5, 10]), ub=np.array([30, 60]), max_evals=10000)\n",
        "best_sma1, best_sma2 = 25.658668527882284, 43.33058786463983 # Final Capital: 83.88734298545428\n",
        "\n",
        "simulate_trading([best_sma1, best_sma2], print_out=True)"
      ]
    }
  ],
  "metadata": {
    "colab": {
      "include_colab_link": true,
      "provenance": []
    },
    "kernelspec": {
      "display_name": "Python 3",
      "language": "python",
      "name": "python3"
    },
    "language_info": {
      "codemirror_mode": {
        "name": "ipython",
        "version": 3
      },
      "file_extension": ".py",
      "mimetype": "text/x-python",
      "name": "python",
      "nbconvert_exporter": "python",
      "pygments_lexer": "ipython3",
      "version": "3.13.2"
    }
  },
  "nbformat": 4,
  "nbformat_minor": 0
}
